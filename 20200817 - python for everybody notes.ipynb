{
 "cells": [
  {
   "cell_type": "code",
   "execution_count": 8,
   "metadata": {},
   "outputs": [
    {
     "name": "stdout",
     "output_type": "stream",
     "text": [
      "20200817 - python for everybody - Introduction - Part 4\n",
      "\n",
      "conditional statement\n",
      "smaller\n",
      "Finis\n",
      "\n",
      "Repeated Steps\n",
      "5\n",
      "4\n",
      "3\n",
      "2\n",
      "1\n",
      "Blastoff!\n"
     ]
    }
   ],
   "source": [
    "print(\"20200817 - python for everybody - Introduction - Part 4\")\n",
    "print()\n",
    "print(\"conditional statement\")\n",
    "\n",
    "x=5\n",
    "if x < 10: \n",
    "    print(\"smaller\")\n",
    "if x > 20: \n",
    "    print(\"Bigger\")\n",
    "    \n",
    "print(\"Finis\")\n",
    "print()\n",
    "print(\"Repeated Steps\") #loops_using_while\n",
    "n=5\n",
    "while n > 0:\n",
    "    print(n)\n",
    "    n = n - 1\n",
    "print(\"Blastoff!\")\n",
    "\n",
    "\n"
   ]
  },
  {
   "cell_type": "code",
   "execution_count": 7,
   "metadata": {},
   "outputs": [
    {
     "name": "stdout",
     "output_type": "stream",
     "text": [
      "Today's date: 2020-09-01\n",
      "\n",
      "20200828_2.1 Expressions\n",
      "Constant\n",
      "\n",
      "Order of evaluation\n",
      "Parenthesis\n",
      "Power\n",
      "Multiplication\n",
      "Addition Left to Right\n",
      "\n",
      "More than one\n",
      "All done\n",
      "Bigger\n",
      "All done\n",
      "\n",
      "large\n",
      "all done\n"
     ]
    }
   ],
   "source": [
    "from datetime import date\n",
    "\n",
    "today = date.today()\n",
    "print(\"Today's date:\", today)\n",
    "print(\"\")\n",
    "print(\"20200828_2.1 Expressions\")\n",
    "print(\"Constant\")\n",
    "print(\"\")\n",
    "\n",
    "print(\"Order of evaluation\")\n",
    "print(\"Parenthesis\")\n",
    "print(\"Power\")\n",
    "print(\"Multiplication\")\n",
    "print(\"Addition\", \"Left to Right\")\n",
    "\n",
    "#indent is usually 4 spaces\n",
    "# == means a question mark: so for e.g. x==5: print('Equals 5')\n",
    "print('')\n",
    "t\n",
    "#Nested decisions\n",
    "x= 50\n",
    "if x>1 :\n",
    "    print('More than one')\n",
    "    if x<1:\n",
    "        print('less than one')\n",
    "print('All done')\n",
    "\n",
    "#two-way decisions using IF test\n",
    "x=4\n",
    "if x>2:\n",
    "    print('Bigger')\n",
    "else:\n",
    "    print('Smaller')\n",
    "print('All done')\n",
    "\n",
    "#elif -- else and if\n",
    "#Multi-way\n",
    "print('')\n",
    "x= 11\n",
    "if x<2:\n",
    "    print('small')\n",
    "elif x<10:\n",
    "    print('medium')\n",
    "else:\n",
    "    print('large')\n",
    "print('all done')"
   ]
  },
  {
   "cell_type": "code",
   "execution_count": 2,
   "metadata": {},
   "outputs": [
    {
     "name": "stdout",
     "output_type": "stream",
     "text": [
      "Today's date: 2020-09-05\n",
      "Week 6 - Assignment 4.6\n",
      "Enter Hours:45\n",
      "Enter rate per hour:10.50\n",
      "Pay 498.75\n"
     ]
    }
   ],
   "source": [
    "from datetime import date\n",
    "\n",
    "today = date.today()\n",
    "print(\"Today's date:\", today)\n",
    "\n",
    "print('Week 6 - Assignment 4.6')\n",
    "#answers\n",
    "#Write a program to prompt the user for hours and rate per hour using input to compute gross pay. \n",
    "#Pay should be the normal rate for hours up to 40 and time-and-a-half for the hourly rate for all hours worked above 40 hours. \n",
    "#Put the logic to do the computation of pay in a function called computepay() and use the function to do the computation. \n",
    "#The function should return a value. Use 45 hours and a rate of 10.50 per hour to test the program (the pay should be 498.75). \n",
    "# You should use input to read a string and float() to convert the string to a number. \n",
    "# Do not worry about error checking the user input unless you want to - you can assume the user types numbers properly. Do not name your variable sum or use the sum() function.  \n",
    "\n",
    "def computepay(h,r):\n",
    "    if h > 40:\n",
    "        p = 1.5 * r * (h - 40) + (40 *r)\n",
    "    else:\n",
    "        p = h * r\n",
    "    return p\n",
    "\n",
    "hrs = input(\"Enter Hours:\")\n",
    "hr = float(hrs)\n",
    "rphrs = input(\"Enter rate per hour:\")\n",
    "rphr = float(rphrs)\n",
    "\n",
    "p = computepay(hr,rphr)\n",
    "print('Pay',p)\n"
   ]
  }
 ],
 "metadata": {
  "kernelspec": {
   "display_name": "Python 3",
   "language": "python",
   "name": "python3"
  },
  "language_info": {
   "codemirror_mode": {
    "name": "ipython",
    "version": 3
   },
   "file_extension": ".py",
   "mimetype": "text/x-python",
   "name": "python",
   "nbconvert_exporter": "python",
   "pygments_lexer": "ipython3",
   "version": "3.7.0"
  }
 },
 "nbformat": 4,
 "nbformat_minor": 2
}
